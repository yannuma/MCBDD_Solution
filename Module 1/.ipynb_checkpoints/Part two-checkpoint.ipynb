{
 "cells": [
  {
   "cell_type": "code",
   "execution_count": 41,
   "id": "73dc0d14",
   "metadata": {},
   "outputs": [],
   "source": [
    "import numpy as np\n",
    "import matplotlib.pyplot as plt\n",
    "import pandas as pd"
   ]
  },
  {
   "cell_type": "code",
   "execution_count": 42,
   "id": "97daa189",
   "metadata": {},
   "outputs": [
    {
     "name": "stdout",
     "output_type": "stream",
     "text": [
      "0.0016\n",
      "0.0378\n",
      "1.0932\n"
     ]
    }
   ],
   "source": [
    "df = pd.read_excel('Cao and Moult 2014.xlsx')\n",
    "total_drug_targets = sum(df[\"Number of drug targets\"]) - 24\n",
    "total_genes_human = 63494\n",
    "prob_is_target =1/total_genes_human\n",
    "print(round(prob_is_target*100, 4))\n",
    "print(round(24/total_genes_human*100, 4))\n",
    "print(round(23/total_drug_targets *100, 4))"
   ]
  },
  {
   "cell_type": "markdown",
   "id": "a46493dc",
   "metadata": {},
   "source": [
    "a)P(WKN1 is target) = 1/63494 = 0.0015%\n",
    "The probability that our gene is a new target for a drug is 1 / the number of genes in humans if we have no other information. \n",
    "\n",
    "If we are looking for a new disease then it is approximately 24 by number of genes, as each disease has on average 24 target genes. \n",
    "Which then our gene would be to 0.039% a target.\n",
    "\n",
    "b) P(WKN2 is target| Gwas hit) = (P(Gwas hit| WKN2 is target) * P(WKN2 is target)) / P(Gwas hit) \n",
    "How to get the P(Gwas hit| WKN2 is target) information from the table?\n",
    "I tried it to solve it with Bayes rule but couldn't derive the conditional probability. \n",
    "\n",
    "I tried it then with this approach: We know we have a GWAS hit. In total there are 23 0verlaping GWAS genes with the Target genes. Therefore 23 divided by total Targets give us the probability that our Gwas hit is also a Target.\n",
    "Which is 1.09%. \n"
   ]
  },
  {
   "cell_type": "code",
   "execution_count": null,
   "id": "d5fb95a5",
   "metadata": {},
   "outputs": [],
   "source": []
  }
 ],
 "metadata": {
  "kernelspec": {
   "display_name": "Python 3",
   "language": "python",
   "name": "python3"
  },
  "language_info": {
   "codemirror_mode": {
    "name": "ipython",
    "version": 3
   },
   "file_extension": ".py",
   "mimetype": "text/x-python",
   "name": "python",
   "nbconvert_exporter": "python",
   "pygments_lexer": "ipython3",
   "version": "3.8.8"
  }
 },
 "nbformat": 4,
 "nbformat_minor": 5
}
