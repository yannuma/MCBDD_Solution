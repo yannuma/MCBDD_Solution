{
 "cells": [
  {
   "cell_type": "code",
   "execution_count": 1,
   "id": "73dc0d14",
   "metadata": {},
   "outputs": [],
   "source": [
    "import numpy as np\n",
    "import matplotlib.pyplot as plt\n",
    "import pandas as pd"
   ]
  },
  {
   "cell_type": "code",
   "execution_count": 2,
   "id": "97daa189",
   "metadata": {},
   "outputs": [
    {
     "name": "stdout",
     "output_type": "stream",
     "text": [
      "                          Unnamed: 0      Number of Drugs  \\\n",
      "0       Acute lymphoblastic leukemia                    6   \n",
      "1   Age-related macular degeneration                    9   \n",
      "2                  Allergic rhinitis                   69   \n",
      "3                Alzheimer's disease                    5   \n",
      "4      Amyotrophic lateral sclerosis                    3   \n",
      "..                               ...                  ...   \n",
      "80                Ulcerative colitis                    5   \n",
      "81                  Uterine fibroids                    1   \n",
      "82            Venous thromboembolism                    1   \n",
      "83                          Vitiligo                    4   \n",
      "84                              Mean  2021-09-19 00:00:00   \n",
      "\n",
      "    GWAS reported genes  Number of drug targets  GWAS overlap, same disease*  \\\n",
      "0                 19.00                      10                         0.00   \n",
      "1                 23.00                       2                         1.00   \n",
      "2                 11.00                      20                         0.00   \n",
      "3                 54.00                     179                         0.00   \n",
      "4                 26.00                       2                         0.00   \n",
      "..                  ...                     ...                          ...   \n",
      "80                95.00                       9                         1.00   \n",
      "81                 7.00                       1                         0.00   \n",
      "82                 7.00                       3                         0.00   \n",
      "83                25.00                       8                         1.00   \n",
      "84                29.18                      24                         0.26   \n",
      "\n",
      "    Unnamed: 5  \n",
      "0     0.000999  \n",
      "1     0.502488  \n",
      "2     0.000500  \n",
      "3     0.000056  \n",
      "4     0.004975  \n",
      "..         ...  \n",
      "80    0.112098  \n",
      "81    0.009901  \n",
      "82    0.003322  \n",
      "83    0.126092  \n",
      "84    0.017031  \n",
      "\n",
      "[85 rows x 6 columns]\n"
     ]
    }
   ],
   "source": [
    "df = pd.read_excel('Cao and Moult 2014.xlsx')\n",
    "\n",
    "print(df)"
   ]
  },
  {
   "cell_type": "code",
   "execution_count": null,
   "id": "1a7c5849",
   "metadata": {},
   "outputs": [],
   "source": []
  }
 ],
 "metadata": {
  "kernelspec": {
   "display_name": "Python 3",
   "language": "python",
   "name": "python3"
  },
  "language_info": {
   "codemirror_mode": {
    "name": "ipython",
    "version": 3
   },
   "file_extension": ".py",
   "mimetype": "text/x-python",
   "name": "python",
   "nbconvert_exporter": "python",
   "pygments_lexer": "ipython3",
   "version": "3.8.8"
  }
 },
 "nbformat": 4,
 "nbformat_minor": 5
}
