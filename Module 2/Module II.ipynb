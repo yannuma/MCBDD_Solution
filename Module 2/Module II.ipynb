{
 "cells": [
  {
   "cell_type": "code",
   "execution_count": 3,
   "id": "3d09f422",
   "metadata": {},
   "outputs": [
    {
     "name": "stdout",
     "output_type": "stream",
     "text": [
      "Requirement already satisfied: chembl_webresource_client in c:\\users\\yanni\\anaconda3\\lib\\site-packages (0.10.9)\n",
      "Requirement already satisfied: urllib3 in c:\\users\\yanni\\anaconda3\\lib\\site-packages (from chembl_webresource_client) (1.26.4)\n",
      "Requirement already satisfied: requests-cache~=1.2 in c:\\users\\yanni\\anaconda3\\lib\\site-packages (from chembl_webresource_client) (1.2.0)\n",
      "Requirement already satisfied: requests>=2.18.4 in c:\\users\\yanni\\anaconda3\\lib\\site-packages (from chembl_webresource_client) (2.25.1)\n",
      "Requirement already satisfied: easydict in c:\\users\\yanni\\anaconda3\\lib\\site-packages (from chembl_webresource_client) (1.13)\n",
      "Requirement already satisfied: idna<3,>=2.5 in c:\\users\\yanni\\anaconda3\\lib\\site-packages (from requests>=2.18.4->chembl_webresource_client) (2.10)\n",
      "Requirement already satisfied: certifi>=2017.4.17 in c:\\users\\yanni\\anaconda3\\lib\\site-packages (from requests>=2.18.4->chembl_webresource_client) (2020.12.5)\n",
      "Requirement already satisfied: chardet<5,>=3.0.2 in c:\\users\\yanni\\anaconda3\\lib\\site-packages (from requests>=2.18.4->chembl_webresource_client) (4.0.0)\n",
      "Requirement already satisfied: attrs>=21.2 in c:\\users\\yanni\\anaconda3\\lib\\site-packages (from requests-cache~=1.2->chembl_webresource_client) (23.2.0)\n",
      "Requirement already satisfied: url-normalize>=1.4 in c:\\users\\yanni\\anaconda3\\lib\\site-packages (from requests-cache~=1.2->chembl_webresource_client) (1.4.3)\n",
      "Requirement already satisfied: platformdirs>=2.5 in c:\\users\\yanni\\anaconda3\\lib\\site-packages (from requests-cache~=1.2->chembl_webresource_client) (4.2.0)\n",
      "Requirement already satisfied: cattrs>=22.2 in c:\\users\\yanni\\anaconda3\\lib\\site-packages (from requests-cache~=1.2->chembl_webresource_client) (23.2.3)\n",
      "Requirement already satisfied: exceptiongroup>=1.1.1 in c:\\users\\yanni\\anaconda3\\lib\\site-packages (from cattrs>=22.2->requests-cache~=1.2->chembl_webresource_client) (1.2.0)\n",
      "Requirement already satisfied: typing-extensions!=4.6.3,>=4.1.0 in c:\\users\\yanni\\anaconda3\\lib\\site-packages (from cattrs>=22.2->requests-cache~=1.2->chembl_webresource_client) (4.5.0)\n",
      "Requirement already satisfied: six in c:\\users\\yanni\\anaconda3\\lib\\site-packages (from url-normalize>=1.4->requests-cache~=1.2->chembl_webresource_client) (1.15.0)\n"
     ]
    }
   ],
   "source": [
    "!pip install chembl_webresource_client"
   ]
  },
  {
   "cell_type": "code",
   "execution_count": 3,
   "id": "e8fa1db9",
   "metadata": {},
   "outputs": [],
   "source": [
    "import pandas as pd"
   ]
  },
  {
   "cell_type": "code",
   "execution_count": 25,
   "id": "796cba2d",
   "metadata": {},
   "outputs": [
    {
     "name": "stdout",
     "output_type": "stream",
     "text": [
      "Number of approved drugs: 14805\n"
     ]
    }
   ],
   "source": [
    "### Task 1 ###\n",
    "\n",
    "from chembl_webresource_client.new_client import new_client\n",
    "drug = new_client.drug\n",
    "approved_drugs = drug.filter(max_phase=4).order_by('first_approval')\n",
    "print(\"Number of approved drugs:\", len(approved_drugs))\n",
    "approved_drugs[0][]"
   ]
  },
  {
   "cell_type": "code",
   "execution_count": 51,
   "id": "74da4f31",
   "metadata": {},
   "outputs": [
    {
     "name": "stdout",
     "output_type": "stream",
     "text": [
      "           Chembl_ID                          Name  First approval year\n",
      "0          CHEMBL449                  Butabarbital               1939.0\n",
      "1      CHEMBL1200542  Desoxycorticosterone acetate               1939.0\n",
      "2          CHEMBL821                     Guanidine               1939.0\n",
      "3      CHEMBL1201657                Heparin sodium               1939.0\n",
      "4           CHEMBL90                     Histamine               1939.0\n",
      "...              ...                           ...                  ...\n",
      "14800      CHEMBL986                     Vitamin a                  NaN\n",
      "14801      CHEMBL986                     Vitamin a                  NaN\n",
      "14802      CHEMBL986                     Vitamin a                  NaN\n",
      "14803     CHEMBL1675           Vitamin a palmitate                  NaN\n",
      "14804   CHEMBL502135                        Xylose                  NaN\n",
      "\n",
      "[14805 rows x 3 columns]\n"
     ]
    }
   ],
   "source": [
    "ChemblID = [x['molecule_chembl_id'] for x in approved_drugs]\n",
    "names = [next((synonym['molecule_synonym'] for synonym in x['molecule_synonyms'] if synonym['syn_type'] == 'FDA'), 'N/A') for x in approved_drugs]\n",
    "years = [x['first_approval'] for x in approved_drugs]\n",
    "\n",
    "df = pd.DataFrame({'Chembl_ID': ChemblID, 'Name': names, 'First approval year': years})\n",
    "df_sorted = df.sort_values(by=['First approval year', 'Name'])\n",
    "df_sorted.reset_index(drop=True, inplace=True)\n",
    "print(df_sorted)"
   ]
  },
  {
   "cell_type": "code",
   "execution_count": 54,
   "id": "ebb6063e",
   "metadata": {},
   "outputs": [
    {
     "data": {
      "text/html": [
       "<div>\n",
       "<style scoped>\n",
       "    .dataframe tbody tr th:only-of-type {\n",
       "        vertical-align: middle;\n",
       "    }\n",
       "\n",
       "    .dataframe tbody tr th {\n",
       "        vertical-align: top;\n",
       "    }\n",
       "\n",
       "    .dataframe thead th {\n",
       "        text-align: right;\n",
       "    }\n",
       "</style>\n",
       "<table border=\"1\" class=\"dataframe\">\n",
       "  <thead>\n",
       "    <tr style=\"text-align: right;\">\n",
       "      <th></th>\n",
       "      <th>Chembl_ID</th>\n",
       "      <th>Name</th>\n",
       "      <th>First approval year</th>\n",
       "    </tr>\n",
       "  </thead>\n",
       "  <tbody>\n",
       "    <tr>\n",
       "      <th>1786</th>\n",
       "      <td>CHEMBL139367</td>\n",
       "      <td>N/A</td>\n",
       "      <td>2014.0</td>\n",
       "    </tr>\n",
       "    <tr>\n",
       "      <th>1787</th>\n",
       "      <td>CHEMBL125</td>\n",
       "      <td>Miltefosine</td>\n",
       "      <td>2014.0</td>\n",
       "    </tr>\n",
       "    <tr>\n",
       "      <th>1788</th>\n",
       "      <td>CHEMBL206253</td>\n",
       "      <td>Netupitant</td>\n",
       "      <td>2014.0</td>\n",
       "    </tr>\n",
       "    <tr>\n",
       "      <th>1789</th>\n",
       "      <td>CHEMBL443052</td>\n",
       "      <td>Tavaborole</td>\n",
       "      <td>2014.0</td>\n",
       "    </tr>\n",
       "    <tr>\n",
       "      <th>1790</th>\n",
       "      <td>CHEMBL373742</td>\n",
       "      <td>Vasopressin</td>\n",
       "      <td>2014.0</td>\n",
       "    </tr>\n",
       "    <tr>\n",
       "      <th>...</th>\n",
       "      <td>...</td>\n",
       "      <td>...</td>\n",
       "      <td>...</td>\n",
       "    </tr>\n",
       "    <tr>\n",
       "      <th>2205</th>\n",
       "      <td>CHEMBL4297590</td>\n",
       "      <td>N/A</td>\n",
       "      <td>2022.0</td>\n",
       "    </tr>\n",
       "    <tr>\n",
       "      <th>2206</th>\n",
       "      <td>CHEMBL259571</td>\n",
       "      <td>Tapinarof</td>\n",
       "      <td>2022.0</td>\n",
       "    </tr>\n",
       "    <tr>\n",
       "      <th>2207</th>\n",
       "      <td>CHEMBL4297634</td>\n",
       "      <td>Gadopiclenol</td>\n",
       "      <td>2022.0</td>\n",
       "    </tr>\n",
       "    <tr>\n",
       "      <th>2208</th>\n",
       "      <td>CHEMBL4297666</td>\n",
       "      <td>Omidenepag isopropyl</td>\n",
       "      <td>2022.0</td>\n",
       "    </tr>\n",
       "    <tr>\n",
       "      <th>2209</th>\n",
       "      <td>CHEMBL1091250</td>\n",
       "      <td>N/A</td>\n",
       "      <td>2022.0</td>\n",
       "    </tr>\n",
       "  </tbody>\n",
       "</table>\n",
       "<p>424 rows × 3 columns</p>\n",
       "</div>"
      ],
      "text/plain": [
       "          Chembl_ID                  Name  First approval year\n",
       "1786   CHEMBL139367                   N/A               2014.0\n",
       "1787      CHEMBL125           Miltefosine               2014.0\n",
       "1788   CHEMBL206253            Netupitant               2014.0\n",
       "1789   CHEMBL443052            Tavaborole               2014.0\n",
       "1790   CHEMBL373742           Vasopressin               2014.0\n",
       "...             ...                   ...                  ...\n",
       "2205  CHEMBL4297590                   N/A               2022.0\n",
       "2206   CHEMBL259571             Tapinarof               2022.0\n",
       "2207  CHEMBL4297634          Gadopiclenol               2022.0\n",
       "2208  CHEMBL4297666  Omidenepag isopropyl               2022.0\n",
       "2209  CHEMBL1091250                   N/A               2022.0\n",
       "\n",
       "[424 rows x 3 columns]"
      ]
     },
     "execution_count": 54,
     "metadata": {},
     "output_type": "execute_result"
    }
   ],
   "source": [
    "### Task 2 ###\n",
    "df_14 = df[df['First approval year'] >= 2014]\n",
    "df_14"
   ]
  },
  {
   "cell_type": "code",
   "execution_count": 55,
   "id": "4d655825",
   "metadata": {},
   "outputs": [],
   "source": [
    "import requests\n"
   ]
  },
  {
   "cell_type": "code",
   "execution_count": null,
   "id": "9cb36095",
   "metadata": {},
   "outputs": [],
   "source": []
  }
 ],
 "metadata": {
  "kernelspec": {
   "display_name": "Python 3",
   "language": "python",
   "name": "python3"
  },
  "language_info": {
   "codemirror_mode": {
    "name": "ipython",
    "version": 3
   },
   "file_extension": ".py",
   "mimetype": "text/x-python",
   "name": "python",
   "nbconvert_exporter": "python",
   "pygments_lexer": "ipython3",
   "version": "3.8.8"
  }
 },
 "nbformat": 4,
 "nbformat_minor": 5
}
