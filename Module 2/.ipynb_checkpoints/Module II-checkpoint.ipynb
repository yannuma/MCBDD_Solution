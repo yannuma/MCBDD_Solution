{
 "cells": [
  {
   "cell_type": "code",
   "execution_count": 3,
   "id": "3d09f422",
   "metadata": {},
   "outputs": [
    {
     "name": "stdout",
     "output_type": "stream",
     "text": [
      "Requirement already satisfied: chembl_webresource_client in c:\\users\\yanni\\anaconda3\\lib\\site-packages (0.10.9)\n",
      "Requirement already satisfied: urllib3 in c:\\users\\yanni\\anaconda3\\lib\\site-packages (from chembl_webresource_client) (1.26.4)\n",
      "Requirement already satisfied: requests-cache~=1.2 in c:\\users\\yanni\\anaconda3\\lib\\site-packages (from chembl_webresource_client) (1.2.0)\n",
      "Requirement already satisfied: requests>=2.18.4 in c:\\users\\yanni\\anaconda3\\lib\\site-packages (from chembl_webresource_client) (2.25.1)\n",
      "Requirement already satisfied: easydict in c:\\users\\yanni\\anaconda3\\lib\\site-packages (from chembl_webresource_client) (1.13)\n",
      "Requirement already satisfied: idna<3,>=2.5 in c:\\users\\yanni\\anaconda3\\lib\\site-packages (from requests>=2.18.4->chembl_webresource_client) (2.10)\n",
      "Requirement already satisfied: certifi>=2017.4.17 in c:\\users\\yanni\\anaconda3\\lib\\site-packages (from requests>=2.18.4->chembl_webresource_client) (2020.12.5)\n",
      "Requirement already satisfied: chardet<5,>=3.0.2 in c:\\users\\yanni\\anaconda3\\lib\\site-packages (from requests>=2.18.4->chembl_webresource_client) (4.0.0)\n",
      "Requirement already satisfied: attrs>=21.2 in c:\\users\\yanni\\anaconda3\\lib\\site-packages (from requests-cache~=1.2->chembl_webresource_client) (23.2.0)\n",
      "Requirement already satisfied: url-normalize>=1.4 in c:\\users\\yanni\\anaconda3\\lib\\site-packages (from requests-cache~=1.2->chembl_webresource_client) (1.4.3)\n",
      "Requirement already satisfied: platformdirs>=2.5 in c:\\users\\yanni\\anaconda3\\lib\\site-packages (from requests-cache~=1.2->chembl_webresource_client) (4.2.0)\n",
      "Requirement already satisfied: cattrs>=22.2 in c:\\users\\yanni\\anaconda3\\lib\\site-packages (from requests-cache~=1.2->chembl_webresource_client) (23.2.3)\n",
      "Requirement already satisfied: exceptiongroup>=1.1.1 in c:\\users\\yanni\\anaconda3\\lib\\site-packages (from cattrs>=22.2->requests-cache~=1.2->chembl_webresource_client) (1.2.0)\n",
      "Requirement already satisfied: typing-extensions!=4.6.3,>=4.1.0 in c:\\users\\yanni\\anaconda3\\lib\\site-packages (from cattrs>=22.2->requests-cache~=1.2->chembl_webresource_client) (4.5.0)\n",
      "Requirement already satisfied: six in c:\\users\\yanni\\anaconda3\\lib\\site-packages (from url-normalize>=1.4->requests-cache~=1.2->chembl_webresource_client) (1.15.0)\n"
     ]
    }
   ],
   "source": [
    "!pip install chembl_webresource_client"
   ]
  },
  {
   "cell_type": "code",
   "execution_count": 3,
   "id": "e8fa1db9",
   "metadata": {},
   "outputs": [],
   "source": [
    "import pandas as pd"
   ]
  },
  {
   "cell_type": "code",
   "execution_count": 8,
   "id": "796cba2d",
   "metadata": {},
   "outputs": [
    {
     "name": "stdout",
     "output_type": "stream",
     "text": [
      "Number of approved drugs: 14805\n"
     ]
    }
   ],
   "source": [
    "### Task 1 ###\n",
    "\n",
    "from chembl_webresource_client.new_client import new_client\n",
    "drug = new_client.drug\n",
    "approved_drugs = drug.filter(max_phase=4).order_by('first_approval')\n",
    "print(\"Number of approved drugs:\", len(approved_drugs))"
   ]
  },
  {
   "cell_type": "code",
   "execution_count": null,
   "id": "74da4f31",
   "metadata": {},
   "outputs": [],
   "source": [
    "ChemblID = []\n",
    "names = []\n",
    "years = []\n",
    "\n",
    "for entry in approved_drugs:\n",
    "    years.append(entry[])\n"
   ]
  },
  {
   "cell_type": "code",
   "execution_count": null,
   "id": "ebb6063e",
   "metadata": {},
   "outputs": [],
   "source": []
  }
 ],
 "metadata": {
  "kernelspec": {
   "display_name": "Python 3",
   "language": "python",
   "name": "python3"
  },
  "language_info": {
   "codemirror_mode": {
    "name": "ipython",
    "version": 3
   },
   "file_extension": ".py",
   "mimetype": "text/x-python",
   "name": "python",
   "nbconvert_exporter": "python",
   "pygments_lexer": "ipython3",
   "version": "3.8.8"
  }
 },
 "nbformat": 4,
 "nbformat_minor": 5
}
